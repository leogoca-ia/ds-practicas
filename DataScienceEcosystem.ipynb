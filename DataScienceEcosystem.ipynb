{
 "cells": [
  {
   "cell_type": "markdown",
   "id": "66a98000-7f55-4247-a9b7-f5971419eac5",
   "metadata": {},
   "source": [
    "# Data Science Tools and Ecosystem"
   ]
  },
  {
   "cell_type": "markdown",
   "id": "b95b9acd-729f-4c71-882d-3072c285abc6",
   "metadata": {},
   "source": [
    "### In this notebook, Data Science Tools and Ecosystem are summarized."
   ]
  },
  {
   "cell_type": "markdown",
   "id": "03ad543a-1b29-4caa-8cc4-7d87c656068e",
   "metadata": {},
   "source": [
    "**Objectives:**\n",
    "- Create a Jupyter Notebook with markdown and code cells\n",
    "- List examples of languages, libraries and tools used in Data Science\n",
    "- Share your Jupyter Notebook publicly on GitHub"
   ]
  },
  {
   "cell_type": "markdown",
   "id": "adf9f3cd-7c23-49c4-93c7-729b7015a2c4",
   "metadata": {},
   "source": [
    "##### Some of the commonly used libraries used by Data Scientists include:\n",
    "\n",
    "1. R\n",
    "2. Python\n",
    "3. Scala"
   ]
  },
  {
   "attachments": {},
   "cell_type": "markdown",
   "id": "db6e5cea-e96f-4f0f-b49f-dc857751e6cf",
   "metadata": {},
   "source": [
    "##### Some of the commonly used libraries used by Data Scientists include:\n",
    "\n",
    "1. SCikit-Learn\n",
    "2. caret\n",
    "3. Matplotlib\n"
   ]
  },
  {
   "cell_type": "markdown",
   "id": "8e671fad-e23e-4974-a557-fed8c00e1bbc",
   "metadata": {},
   "source": [
    "| Data Science Tools |\n",
    "|--------------------|\n",
    "| RStudio         |\n",
    "| VS Code         |\n",
    "| Anaconda        |"
   ]
  },
  {
   "cell_type": "markdown",
   "id": "2d92a1a2-975b-4332-9b19-6e64b8c8f13e",
   "metadata": {},
   "source": [
    "### Below are a few examples of evaluating arithmetic expressions in Python."
   ]
  },
  {
   "cell_type": "code",
   "execution_count": 2,
   "id": "44c52456-792c-41ce-856b-b50a91a626ea",
   "metadata": {},
   "outputs": [
    {
     "data": {
      "text/plain": [
       "17"
      ]
     },
     "execution_count": 2,
     "metadata": {},
     "output_type": "execute_result"
    }
   ],
   "source": [
    "# This a simple arithmetic expression to multiply then add integers.\n",
    "(3*4)+5"
   ]
  },
  {
   "cell_type": "code",
   "execution_count": 5,
   "id": "d0036379-6d61-4539-aa80-e0db964846c6",
   "metadata": {},
   "outputs": [
    {
     "data": {
      "text/plain": [
       "3.3333333333333335"
      ]
     },
     "execution_count": 5,
     "metadata": {},
     "output_type": "execute_result"
    }
   ],
   "source": [
    "# This expression will convert 200 minutes to hours by diving by 60.\n",
    "200/60"
   ]
  },
  {
   "cell_type": "markdown",
   "id": "9037ecee-82e4-4795-ad85-0eec55e3ccc4",
   "metadata": {},
   "source": [
    "## Author\n",
    "Leopoldo Gómez Caudillo"
   ]
  },
  {
   "cell_type": "code",
   "execution_count": null,
   "id": "15f33042-f126-4c4f-b12c-a56c77cb44f0",
   "metadata": {},
   "outputs": [],
   "source": []
  }
 ],
 "metadata": {
  "kernelspec": {
   "display_name": "Python 3 (ipykernel)",
   "language": "python",
   "name": "python3"
  },
  "language_info": {
   "codemirror_mode": {
    "name": "ipython",
    "version": 3
   },
   "file_extension": ".py",
   "mimetype": "text/x-python",
   "name": "python",
   "nbconvert_exporter": "python",
   "pygments_lexer": "ipython3",
   "version": "3.11.9"
  }
 },
 "nbformat": 4,
 "nbformat_minor": 5
}
